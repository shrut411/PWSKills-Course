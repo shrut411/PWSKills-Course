{
 "cells": [
  {
   "cell_type": "code",
   "execution_count": 13,
   "id": "33ac9d52-6a0f-4a4e-a01d-7e1ffbcfc880",
   "metadata": {},
   "outputs": [
    {
     "data": {
      "text/plain": [
       "'mercedes'"
      ]
     },
     "execution_count": 13,
     "metadata": {},
     "output_type": "execute_result"
    }
   ],
   "source": [
    "\"\"\"Q1. Explain Class and Object with respect to Object-Oriented Programming. Give a suitable example.\"\"\"\n",
    "\"\"\"In object-oriented programming (OOP), a class is a blueprint or template for creating objects. \n",
    "It defines a set of attributes (properties or data members) and methods (functions or procedures) that the objects created from the class will have. \n",
    "Objects, on the other hand, are instances of a class. Below is the example of a class \"car\" and its objects \"year\" and \"model\"\"\"\n",
    "\n",
    "class car:\n",
    "    def __init__(self, year, model):\n",
    "        self.year = year\n",
    "        self.model = model\n",
    "\n",
    "pw = car(2003,'mercedes')\n",
    "pw.year\n",
    "pw.model"
   ]
  },
  {
   "cell_type": "code",
   "execution_count": 14,
   "id": "02ed138b-a270-476d-866e-5847e0fb92b4",
   "metadata": {},
   "outputs": [
    {
     "data": {
      "text/plain": [
       "'encapsulation, inhertance, polymorphism, abstraction'"
      ]
     },
     "execution_count": 14,
     "metadata": {},
     "output_type": "execute_result"
    }
   ],
   "source": [
    "#Q2. Name the four pillars of OOPs.\n",
    "\"\"\"encapsulation, inhertance, polymorphism, abstraction\"\"\""
   ]
  },
  {
   "cell_type": "code",
   "execution_count": 15,
   "id": "559bceee-d2b8-4756-b124-6382f6bc3b83",
   "metadata": {},
   "outputs": [
    {
     "data": {
      "text/plain": [
       "'bmw'"
      ]
     },
     "execution_count": 15,
     "metadata": {},
     "output_type": "execute_result"
    }
   ],
   "source": [
    "#Q3. Explain why the __init__() function is used. Give a suitable example.\n",
    "\"\"\"The __init__() function in Python is a special method, also known as the constructor, \n",
    "used for initializing the attributes of an object when it is created. \n",
    "It is automatically called when an object is instantiated from a class.\"\"\"\n",
    "\n",
    "class bike:\n",
    "    def __init__(self, name, year):\n",
    "        self.name = name\n",
    "        self.year = year\n",
    "        \n",
    "pw = bike(\"bmw\", 2023)\n",
    "pw.year\n",
    "pw.name"
   ]
  },
  {
   "cell_type": "code",
   "execution_count": 16,
   "id": "f26d4027-c38e-4974-8327-2900adc38484",
   "metadata": {},
   "outputs": [
    {
     "data": {
      "text/plain": [
       "'In object-oriented programming (OOP), self is a convention used in many object-oriented languages, including Python, \\nto represent the instance of a class within its methods. \\nIt is the first parameter of instance methods and refers to the instance of the class on which the method is called.'"
      ]
     },
     "execution_count": 16,
     "metadata": {},
     "output_type": "execute_result"
    }
   ],
   "source": [
    "#Q4. Why self is used in OOPs?\n",
    "\"\"\"In object-oriented programming (OOP), self is a convention used in many object-oriented languages, including Python, \n",
    "to represent the instance of a class within its methods. \n",
    "It is the first parameter of instance methods and refers to the instance of the class on which the method is called.\"\"\""
   ]
  },
  {
   "cell_type": "code",
   "execution_count": null,
   "id": "896ba375-f995-4e50-9719-cd4e8408ace3",
   "metadata": {},
   "outputs": [],
   "source": [
    "#Q5. What is inheritance? Give an example for each type of inheritance.\n",
    "\"\"\"Inheritance is one of the fundamental concepts in object-oriented programming (OOP). It allows a new class (subclass or derived class) \n",
    "to inherit attributes and behaviors (properties and methods) from an existing class (superclass or base class).\"\"\"\n",
    "\n",
    "#Single Inheritance\n",
    "class Animal:\n",
    "    def speak(self):\n",
    "        print(\"Animal speaks\")\n",
    "\n",
    "class Dog(Animal):\n",
    "    def bark(self):\n",
    "        print(\"Dog barks\")\n",
    "\n",
    "my_dog = Dog()\n",
    "my_dog.speak()\n",
    "my_dog.bark() \n",
    "\n",
    "\n",
    "#Multiple Inheritance\n",
    "class Flyable:\n",
    "    def fly(self):\n",
    "        print(\"Can fly\")\n",
    "\n",
    "class Swimmable:\n",
    "    def swim(self):\n",
    "        print(\"Can swim\")\n",
    "\n",
    "class Amphibian(Flyable, Swimmable):\n",
    "    pass\n",
    "\n",
    "\n",
    "frog = Amphibian()\n",
    "frog.fly()   \n",
    "frog.swim()\n",
    "\n",
    "\n",
    "# Multilevel Inheritance\n",
    "class Animal:\n",
    "    def speak(self):\n",
    "        print(\"Animal speaks\")\n",
    "\n",
    "class Dog(Animal):\n",
    "    def bark(self):\n",
    "        print(\"Dog barks\")\n",
    "\n",
    "class Labrador(Dog):\n",
    "    def color(self):\n",
    "        print(\"Labrador is usually yellow\")\n",
    "\n",
    "my_labrador = Labrador()\n",
    "my_labrador.speak()\n",
    "my_labrador.bark()\n",
    "my_labrador.color()\n",
    "\n",
    "\n",
    "# Hierarchical Inheritance\n",
    "class Shape:\n",
    "    def draw(self):\n",
    "        print(\"Drawing shape\")\n",
    "\n",
    "class Circle(Shape):\n",
    "    def draw_circle(self):\n",
    "        print(\"Drawing circle\")\n",
    "\n",
    "class Square(Shape):\n",
    "    def draw_square(self):\n",
    "        print(\"Drawing square\")\n",
    "\n",
    "circle = Circle()\n",
    "square = Square()\n",
    "circle.draw()         # Inherited method from Shape\n",
    "circle.draw_circle()  # Method specific to Circle\n",
    "square.draw()         # Inherited method from Shape\n",
    "square.draw_square()  # \n",
    "\n",
    "\n"
   ]
  }
 ],
 "metadata": {
  "kernelspec": {
   "display_name": "Python 3 (ipykernel)",
   "language": "python",
   "name": "python3"
  },
  "language_info": {
   "codemirror_mode": {
    "name": "ipython",
    "version": 3
   },
   "file_extension": ".py",
   "mimetype": "text/x-python",
   "name": "python",
   "nbconvert_exporter": "python",
   "pygments_lexer": "ipython3",
   "version": "3.10.8"
  }
 },
 "nbformat": 4,
 "nbformat_minor": 5
}
