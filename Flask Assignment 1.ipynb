{
 "cells": [
  {
   "cell_type": "code",
   "execution_count": null,
   "id": "ac215343-5e45-4203-a31f-4cff012eaa1e",
   "metadata": {},
   "outputs": [],
   "source": [
    "#Q1. What is Flask Framework? What are the advantages of Flask Framework?\n",
    "\"\"\"Flask is a lightweight and micro web framework for Python, designed to get you started quickly and easily, with the ability to scale up to complex applications. It was developed by Armin Ronacher as part of the Pocoo project and is based on Werkzeug and Jinja2.\n",
    "\n",
    "Key Features of Flask\n",
    "Micro Framework: Flask is termed a \"micro\" framework because it aims to keep the core simple but extensible. It does not come with built-in tools for handling things like database abstraction, form validation, or other high-level functionality.\n",
    "Flexibility: Flask gives developers the control to build applications the way they want. It is unopinionated and does not enforce a specific directory structure or project layout.\n",
    "Built-in Development Server: It includes a development server and debugger, which are very helpful during development.\n",
    "Jinja2 Templating: Flask uses the Jinja2 templating engine, which allows for powerful and flexible HTML template rendering.\n",
    "RESTful Request Dispatching: Flask's routing system allows for clean URL design and separation of logic based on HTTP methods (GET, POST, etc.).\"\"\""
   ]
  },
  {
   "cell_type": "code",
   "execution_count": 1,
   "id": "be03e1bb-1d0b-4eb6-93d1-8f5af32c0284",
   "metadata": {
    "collapsed": true,
    "jupyter": {
     "outputs_hidden": true
    },
    "tags": []
   },
   "outputs": [
    {
     "ename": "ModuleNotFoundError",
     "evalue": "No module named 'flask'",
     "output_type": "error",
     "traceback": [
      "\u001b[0;31m---------------------------------------------------------------------------\u001b[0m",
      "\u001b[0;31mModuleNotFoundError\u001b[0m                       Traceback (most recent call last)",
      "Cell \u001b[0;32mIn[1], line 3\u001b[0m\n\u001b[1;32m      1\u001b[0m \u001b[38;5;66;03m#Q2. Create a simple Flask application to display ‘Hello World!!’. Attach the screenshot of the output in Jupyter Notebook.\u001b[39;00m\n\u001b[0;32m----> 3\u001b[0m \u001b[38;5;28;01mfrom\u001b[39;00m \u001b[38;5;21;01mflask\u001b[39;00m \u001b[38;5;28;01mimport\u001b[39;00m Flask\n\u001b[1;32m      5\u001b[0m app \u001b[38;5;241m=\u001b[39m Flask(\u001b[38;5;18m__name__\u001b[39m)\n\u001b[1;32m      7\u001b[0m app\u001b[38;5;241m.\u001b[39mroute(\u001b[38;5;124m\"\u001b[39m\u001b[38;5;124m/\u001b[39m\u001b[38;5;124m\"\u001b[39m)\n",
      "\u001b[0;31mModuleNotFoundError\u001b[0m: No module named 'flask'"
     ]
    }
   ],
   "source": [
    "#Q2. Create a simple Flask application to display ‘Hello World!!’. Attach the screenshot of the output in Jupyter Notebook.\n",
    "from flask import Flask\n",
    "\n",
    "app = Flask(__name__)\n",
    "\n",
    "@app.route(\"/\")\n",
    "def hello_world():\n",
    "    return \"Hello, World!\"\n",
    "\n",
    "if __name__==\"__main__\":\n",
    "    app.run(host=\"0.0.0.0\")"
   ]
  },
  {
   "cell_type": "code",
   "execution_count": null,
   "id": "051dbb9f-02e6-49ec-b704-30c80cb86aa1",
   "metadata": {},
   "outputs": [],
   "source": [
    "#Q3. What is App routing in Flask? Why do we use app routes?\n",
    "\"\"\"app routing refers to the process of mapping URLs to functions in your application. This allows you to define how your web application should respond to different URL paths and HTTP methods.\"\"\""
   ]
  },
  {
   "cell_type": "code",
   "execution_count": null,
   "id": "b2e85b39-d8b0-408c-ab8c-a95ec2beea0c",
   "metadata": {},
   "outputs": [],
   "source": [
    "#Q4\n",
    "from flask import Flask\n",
    "\n",
    "app = Flask(__name__)\n",
    "\n",
    "@app.route('/welcome')\n",
    "def welcome():\n",
    "    return \"Welcome to ABC Corporation\"\n",
    "\n",
    "@app.route('/')\n",
    "def company_details():\n",
    "    return \"\"\"\n",
    "    <h1>Company Name: ABC Corporation</h1>\n",
    "    <p>Location: India</p>\n",
    "    <p>Contact Detail: 999-999-9999</p>\n",
    "    \"\"\"\n",
    "\n",
    "if __name__ == \"__main__\":\n",
    "    app.run(host=\"0.0.0.0\")"
   ]
  },
  {
   "cell_type": "code",
   "execution_count": null,
   "id": "54d720e6-ec3a-4fd4-974f-bc47cefbb227",
   "metadata": {},
   "outputs": [],
   "source": [
    "#Q5. What function is used in Flask for URL Building? Write a Python code to demonstrate the working of the url_for() function.\n",
    "\"\"\"In Flask, the url_for() function is used for URL building. This function is helpful for dynamically generating URLs for your application based on the endpoint names of your view functions. It ensures that your URL generation is consistent and can handle changes in your URL patterns without modifying the actual URLs hardcoded in your templates or code.\"\"\"\n",
    "\n",
    "from flask import Flask, url_for, redirect\n",
    "\n",
    "app = Flask(__name__)\n",
    "\n",
    "@app.route('/')\n",
    "def home():\n",
    "    return \"\"\"\n",
    "    <h1>Welcome to the Home Page</h1>\n",
    "    <p>Go to the <a href='{}'>About Page</a></p>\n",
    "    \"\"\".format(url_for('about'))\n",
    "\n",
    "@app.route('/about')\n",
    "def about():\n",
    "    return \"\"\"\n",
    "    <h1>About Us</h1>\n",
    "    <p>This is the About Page of ABC Corporation.</p>\n",
    "    <p>Go back to the <a href='{}'>Home Page</a></p>\n",
    "    \"\"\".format(url_for('home'))\n",
    "\n",
    "@app.route('/welcome')\n",
    "def welcome():\n",
    "    return \"Welcome to ABC Corporation\"\n",
    "\n",
    "@app.route('/redirect_to_home')\n",
    "def redirect_to_home():\n",
    "    return redirect(url_for('home'))\n",
    "\n",
    "if __name__ == '__main__':\n",
    "    app.run(debug=True)\n"
   ]
  }
 ],
 "metadata": {
  "kernelspec": {
   "display_name": "Python 3 (ipykernel)",
   "language": "python",
   "name": "python3"
  },
  "language_info": {
   "codemirror_mode": {
    "name": "ipython",
    "version": 3
   },
   "file_extension": ".py",
   "mimetype": "text/x-python",
   "name": "python",
   "nbconvert_exporter": "python",
   "pygments_lexer": "ipython3",
   "version": "3.10.8"
  }
 },
 "nbformat": 4,
 "nbformat_minor": 5
}
