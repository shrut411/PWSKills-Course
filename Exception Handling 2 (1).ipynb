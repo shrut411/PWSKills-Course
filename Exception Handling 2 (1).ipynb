{
 "cells": [
  {
   "cell_type": "code",
   "execution_count": null,
   "id": "563e854d-1081-45a3-a037-462be25a086c",
   "metadata": {},
   "outputs": [],
   "source": [
    "\"\"\"Q1. Why we have to use the Exception class while creating a Custom Exception\"\"\"\n",
    "# In Python, the Exception class is the base class for all built-in exceptions. \n",
    "# When creating a custom exception, we inherit from the Exception class to ensure our custom exception \n",
    "# integrates seamlessly with Python's exception handling mechanisms. This allows our custom exception \n",
    "# to be caught by any generic exception handlers that catch Exception or any of its subclasses.\n",
    "\n",
    "# Example of creating a custom exception by inheriting from the Exception class:\n",
    "class CustomException(Exception):\n",
    "    pass"
   ]
  },
  {
   "cell_type": "code",
   "execution_count": null,
   "id": "f37138c4-452e-48c7-aa03-7e4f5a07a5e1",
   "metadata": {},
   "outputs": [],
   "source": [
    "\"\"\"Q2. Python program to print Python Exception Hierarchy\"\"\"\n",
    "def print_exception_hierarchy():\n",
    "    def traverse(exception_class, indent=0):\n",
    "        print(' ' * indent + exception_class.__name__)\n",
    "        for subclass in exception_class.__subclasses__():\n",
    "            traverse(subclass, indent + 4)\n",
    "\n",
    "    # Starting point of the hierarchy is BaseException\n",
    "    traverse(BaseException)\n",
    "\n",
    "\n",
    "print_exception_hierarchy()"
   ]
  },
  {
   "cell_type": "code",
   "execution_count": null,
   "id": "693bfd2a-8160-4c80-a3c6-29dd1e285deb",
   "metadata": {},
   "outputs": [],
   "source": [
    "\"\"\"Q3. Errors defined in the ArithmeticError class\"\"\"\n",
    "# The ArithmeticError class is a base class for all errors that occur during arithmetic operations. \n",
    "# This includes:\n",
    "# - ZeroDivisionError: Raised when division or modulo by zero takes place.\n",
    "# - OverflowError: Raised when the result of an arithmetic operation is too large to be expressed within the range of a numeric type.\n",
    "\n",
    "# Example of ZeroDivisionError\n",
    "try:\n",
    "    result = 1 / 0\n",
    "except ZeroDivisionError as e:\n",
    "    print(f\"Caught an exception: {e}\")\n",
    "\n",
    "# Example of OverflowError\n",
    "import math\n",
    "\n",
    "try:\n",
    "    result = math.exp(1000)  # This will raise an OverflowError\n",
    "except OverflowError as e:\n",
    "    print(f\"Caught an exception: {e}\")\n"
   ]
  },
  {
   "cell_type": "code",
   "execution_count": null,
   "id": "748abf09-e65f-4ee3-bc28-dc5a513e2484",
   "metadata": {},
   "outputs": [],
   "source": [
    "\"\"\"Q4. LookupError class explanation\"\"\"\n",
    "# The LookupError class is the base class for errors raised when a lookup operation on a collection fails.\n",
    "# This includes:\n",
    "# - KeyError: Raised when a dictionary key is not found.\n",
    "# - IndexError: Raised when a sequence index is out of range.\n",
    "\n",
    "# Example of KeyError\n",
    "try:\n",
    "    d = {'a': 1}\n",
    "    value = d['b']  # This will raise a KeyError\n",
    "except KeyError as e:\n",
    "    print(f\"Caught an exception: {e}\")\n",
    "\n",
    "# Example of IndexError\n",
    "try:\n",
    "    lst = [1, 2, 3]\n",
    "    value = lst[5]  # This will raise an IndexError\n",
    "except IndexError as e:\n",
    "    print(f\"Caught an exception: {e}\")"
   ]
  },
  {
   "cell_type": "code",
   "execution_count": null,
   "id": "6398c1f2-c983-4148-aeee-ca49c9f9b33c",
   "metadata": {},
   "outputs": [],
   "source": [
    "\"\"\"Q5. Explanation of ImportError and ModuleNotFoundError\"\"\"\n",
    "# ImportError is raised when an import statement fails to find the module definition or when a name cannot be found in a module.\n",
    "# ModuleNotFoundError is a subclass of ImportError that is raised specifically when a module could not be found.\n",
    "\n",
    "# Example of ImportError\n",
    "try:\n",
    "    from non_existent_module import some_function  # This will raise a ModuleNotFoundError\n",
    "except ImportError as e:\n",
    "    print(f\"Caught an exception: {e}\")"
   ]
  },
  {
   "cell_type": "code",
   "execution_count": null,
   "id": "d6a3539d-7ed9-4a5d-923d-0ca99141b38c",
   "metadata": {},
   "outputs": [],
   "source": [
    "\"\"\"Q6. Best practices for exception handling in Python\"\"\"\n",
    "# 1. Be specific with exceptions: Catch specific exceptions instead of using a general exception handler.\n",
    "# 2. Use finally to clean up: Use the finally block to release resources or perform cleanup tasks.\n",
    "# 3. Avoid using exceptions for control flow: Do not use exceptions to control the flow of the program.\n",
    "# 4. Log exceptions: Log the exceptions to get more information about the program's state when the error occurred.\n",
    "# 5. Provide informative messages: Provide clear and informative error messages when raising exceptions.\n",
    "# 6. Document exceptions: Document the exceptions that a function or method may raise.\n",
    "# 7. Use exception chaining: Use exception chaining (raise new_exception from original_exception) to preserve the original exception context.\n",
    "# 8. Handle exceptions at the appropriate level: Handle exceptions at a level in the code where it makes sense to do so, allowing higher-level logic to handle or propagate the exception if necessary.\n",
    "\n",
    "# Example of using specific exceptions and providing informative messages\n",
    "try:\n",
    "    value = 10 / 0\n",
    "except ZeroDivisionError as e:\n",
    "    print(f\"Error: Attempted to divide by zero. Details: {e}\")"
   ]
  }
 ],
 "metadata": {
  "kernelspec": {
   "display_name": "Python 3 (ipykernel)",
   "language": "python",
   "name": "python3"
  },
  "language_info": {
   "codemirror_mode": {
    "name": "ipython",
    "version": 3
   },
   "file_extension": ".py",
   "mimetype": "text/x-python",
   "name": "python",
   "nbconvert_exporter": "python",
   "pygments_lexer": "ipython3",
   "version": "3.10.8"
  }
 },
 "nbformat": 4,
 "nbformat_minor": 5
}
