{
 "cells": [
  {
   "cell_type": "code",
   "execution_count": null,
   "id": "f73bf2b2-e937-4201-9884-9d0d450e0adc",
   "metadata": {},
   "outputs": [],
   "source": [
    "#Q1. How do you comment code in Python? What are the different types of comments?\n",
    "\"\"\"Comments are identified and written with a Hash symbol(#) at the starting for a single line comment. \n",
    "One can also write comments using a triple qoute. There are two types of single line and multiline comments.\"\"\"\n"
   ]
  },
  {
   "cell_type": "code",
   "execution_count": null,
   "id": "e01fe4b8-4c0f-4df0-81a5-583f6e4be128",
   "metadata": {},
   "outputs": [],
   "source": [
    "#Q2. What are variables in Python? How do you declare and assign values to variables?\n",
    "\"\"\" A variable is a symbolic name which is a reference to an object. One can declare variable by just writing the type \n",
    "of the variable and its name like 'int(i)'. One can assign values to the variables by just adding an eqauls sign next to the variable \n",
    "and writing its value.\"\"\""
   ]
  },
  {
   "cell_type": "code",
   "execution_count": null,
   "id": "d557e59e-6695-4da6-9b4a-bab31b0fa63d",
   "metadata": {},
   "outputs": [],
   "source": [
    "#Q3. How do you convert one data type to another in Python?\n",
    "\"\"\" One can directly convert one data type to another by just naming the type of variable one wants to convert into. \n",
    "For example a string can be converted in an integer from str() to int()\"\"\""
   ]
  },
  {
   "cell_type": "code",
   "execution_count": null,
   "id": "587f8a12-2044-40e7-9d8f-c83309834547",
   "metadata": {},
   "outputs": [],
   "source": [
    "#Q4. How do you write and execute a Python script from the command line?\n",
    "\"\"\" You need to open a command line and type the word python followed by the path to your script file like this: python first_script.py Hello World! \n",
    "Then you hit the ENTER button from the keyboard, and that's it.\"\"\""
   ]
  },
  {
   "cell_type": "code",
   "execution_count": 3,
   "id": "ab2a7a24-a6a7-4b3a-85c2-2675ea000ba8",
   "metadata": {},
   "outputs": [
    {
     "data": {
      "text/plain": [
       "[2, 3]"
      ]
     },
     "execution_count": 3,
     "metadata": {},
     "output_type": "execute_result"
    }
   ],
   "source": [
    "#Given a list my_list = [1, 2, 3, 4, 5], write the code to slice the list and obtain the sub-list [2, 3].\n",
    "my_list = [1, 2, 3, 4, 5]\n",
    "sub_list = my_list[1:3]\n",
    "sub_list"
   ]
  },
  {
   "cell_type": "code",
   "execution_count": null,
   "id": "f0971c61-f507-45ae-b353-a848fe22b17f",
   "metadata": {},
   "outputs": [],
   "source": [
    "#Q6. What is a complex number in mathematics, and how is it represented in Python?\n",
    "\"\"\" Complex numbers are written in the form a+bi where a,b are real numbers and i is an imaginery number. \n",
    "The complex data type in python consists of two values, the first one is the real part of the complex number,\n",
    "and the second one is the imaginary part of the complex number. For Example 4+5j\"\"\""
   ]
  },
  {
   "cell_type": "code",
   "execution_count": 11,
   "id": "64e3a0ee-b744-4391-ba97-4d7cc798b74c",
   "metadata": {},
   "outputs": [
    {
     "data": {
      "text/plain": [
       "25"
      ]
     },
     "execution_count": 11,
     "metadata": {},
     "output_type": "execute_result"
    }
   ],
   "source": [
    "#Q7. What is the correct way to declare a variable named age and assign the value 25 to it?\n",
    "age = 25\n",
    "age"
   ]
  },
  {
   "cell_type": "code",
   "execution_count": 9,
   "id": "e21c8e2b-9e30-468d-a7f0-029acfa5312f",
   "metadata": {},
   "outputs": [
    {
     "data": {
      "text/plain": [
       "9.99"
      ]
     },
     "execution_count": 9,
     "metadata": {},
     "output_type": "execute_result"
    }
   ],
   "source": [
    "#Q8. Declare a variable named price and assign the value 9.99 to it. What data type does this variable belong to?\n",
    "\"\"\"The Data type is float\"\"\"\n",
    "price = 9.99\n",
    "price"
   ]
  },
  {
   "cell_type": "code",
   "execution_count": 12,
   "id": "42dfb294-3aab-40d8-8b4f-443ef174e604",
   "metadata": {},
   "outputs": [
    {
     "name": "stdout",
     "output_type": "stream",
     "text": [
      "Shrut.Shah\n"
     ]
    }
   ],
   "source": [
    "#Q9. Create a variable named name and assign your full name to it as a string. How would you print the value of this variable?\n",
    "name = 'Shrut.Shah'\n",
    "print(name)"
   ]
  },
  {
   "cell_type": "code",
   "execution_count": 14,
   "id": "bbc5808d-cde3-442d-8a9d-307373efede1",
   "metadata": {},
   "outputs": [
    {
     "data": {
      "text/plain": [
       "'World'"
      ]
     },
     "execution_count": 14,
     "metadata": {},
     "output_type": "execute_result"
    }
   ],
   "source": [
    "#Q10. Given the string \"Hello, World!\", extract the substring \"World\".\n",
    "name = \"Hello, World!\"\n",
    "substring = name[7:12]\n",
    "substring"
   ]
  },
  {
   "cell_type": "code",
   "execution_count": null,
   "id": "33120091-84d0-447b-a9e4-38f9a1a324d0",
   "metadata": {},
   "outputs": [],
   "source": [
    "#Q11. Create a variable named \"is_student\" and assign it a boolean value indicating whether you are currently a student or not."
   ]
  }
 ],
 "metadata": {
  "kernelspec": {
   "display_name": "Python 3 (ipykernel)",
   "language": "python",
   "name": "python3"
  },
  "language_info": {
   "codemirror_mode": {
    "name": "ipython",
    "version": 3
   },
   "file_extension": ".py",
   "mimetype": "text/x-python",
   "name": "python",
   "nbconvert_exporter": "python",
   "pygments_lexer": "ipython3",
   "version": "3.10.8"
  }
 },
 "nbformat": 4,
 "nbformat_minor": 5
}
