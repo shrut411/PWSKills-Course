{
 "cells": [
  {
   "cell_type": "code",
   "execution_count": null,
   "id": "1d8c85a0-2a6b-4abe-865f-ac2f0b7c7fb4",
   "metadata": {},
   "outputs": [],
   "source": [
    "#Q1. Explain GET and POST methods.\n",
    "\"\"\"GET Method:\n",
    "Purpose: The GET method is used to request data from a specified resource.\n",
    "\n",
    "POST Method:\n",
    "Purpose: The POST method is used to send data to a server to create/update a resource.\"\"\""
   ]
  },
  {
   "cell_type": "code",
   "execution_count": null,
   "id": "b2ac4dc4-aecd-476e-8569-5f3bce23da77",
   "metadata": {},
   "outputs": [],
   "source": [
    "#Q2. Why is request used in Flask?\n",
    "\"\"\"In Flask, the request object is used to handle and access incoming request data. It provides methods and attributes to interact with the data sent by the client.\"\"\""
   ]
  },
  {
   "cell_type": "code",
   "execution_count": null,
   "id": "1a89c795-3926-4c6a-b8bd-c0549434e6b1",
   "metadata": {},
   "outputs": [],
   "source": [
    "#Q3. Why is redirect() used in Flask?\n",
    "\"\"\"The redirect() function in Flask is used to redirect the user to a different endpoint or URL. It is commonly used for:\n",
    "URL Redirection: Sending users to a new URL after completing an action (e.g., after form submission).\n",
    "Route Management: Managing navigation between different parts of an application.\n",
    "User Experience: Enhancing user experience by redirecting to appropriate pages (e.g., after login).\"\"\""
   ]
  },
  {
   "cell_type": "code",
   "execution_count": null,
   "id": "13b16e9d-3f9c-4170-82ae-a1b271dfe274",
   "metadata": {},
   "outputs": [],
   "source": [
    "#Q4. What are templates in Flask? Why is the render_template() function used?\n",
    "\"\"\"Templates in Flask:\n",
    "\n",
    "Definition: Templates are files that contain static data and placeholders for dynamic data. They are usually HTML files that integrate with Flask to produce dynamic web pages.\n",
    "Purpose: They allow separation of logic (Python code) and presentation (HTML), making code cleaner and easier to maintain.\n",
    "render_template() Function:\n",
    "\n",
    "Purpose: The render_template() function is used to render HTML templates and pass data from the backend to the frontend.\n",
    "Usage: It takes the name of the template file and any variables to be passed to the template.\"\"\""
   ]
  },
  {
   "cell_type": "code",
   "execution_count": null,
   "id": "34b68d08-873b-4411-b786-052b50c7a748",
   "metadata": {},
   "outputs": [],
   "source": [
    "#Q5\n",
    "from flask import Flask, request, jsonify\n",
    "\n",
    "app = Flask(__name__)\n",
    "\n",
    "@app.route('/api/greet', methods=['POST'])\n",
    "def greet():\n",
    "    data = request.json\n",
    "    name = data.get('name', 'World')\n",
    "    return jsonify({\"message\": f\"Hello, {name}!\"})\n",
    "\n",
    "if __name__ == '__main__':\n",
    "    app.run(debug=True)"
   ]
  }
 ],
 "metadata": {
  "kernelspec": {
   "display_name": "Python 3 (ipykernel)",
   "language": "python",
   "name": "python3"
  },
  "language_info": {
   "codemirror_mode": {
    "name": "ipython",
    "version": 3
   },
   "file_extension": ".py",
   "mimetype": "text/x-python",
   "name": "python",
   "nbconvert_exporter": "python",
   "pygments_lexer": "ipython3",
   "version": "3.10.8"
  }
 },
 "nbformat": 4,
 "nbformat_minor": 5
}
