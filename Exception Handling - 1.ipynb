{
 "cells": [
  {
   "cell_type": "code",
   "execution_count": null,
   "id": "fe5f049d-12fc-4845-898e-6f6400168dbf",
   "metadata": {},
   "outputs": [],
   "source": [
    "\"\"\"Q1. What is an exception in Python? Write the difference between Exceptions and Syntax errors.\"\"\"\n",
    "# An exception in Python is an event that interrupts the normal flow of a program's execution. It occurs when an error or exceptional condition is encountered during the execution of a program.\n",
    "\n",
    "# Difference between Exceptions and Syntax errors:\n",
    "# - Exceptions occur at runtime when an error is encountered during the execution of the program, while syntax errors occur at compile time due to incorrect syntax in the code.\n",
    "# - Exceptions are handled using try-except blocks, while syntax errors need to be fixed before the program can run.\n",
    "\n",
    "\n",
    "    \n",
    "\"\"\"Q3. Which Python statements are used to catch and handle exceptions? Explain with an example.\"\"\"\n",
    "# Python statements used to catch and handle exceptions are try, except, else, finally.\n",
    "\n",
    "# Example of try and else:\n",
    "try:\n",
    "    num = int(input(\"Enter a number: \"))\n",
    "except ValueError:\n",
    "    print(\"Invalid input. Please enter a valid number.\")\n",
    "else:\n",
    "    print(\"You entered:\", num)\n",
    "\n",
    "    \n",
    "\n",
    "\"\"\"Q4.\"\"\"\n",
    "# The finally block is always executed, whether an exception occurs or not. It is useful for cleanup code that should be run regardless of whether an exception occurs.\n",
    "# Example of finally:\n",
    "try:\n",
    "    f = open(\"file.txt\", \"r\")\n",
    "    # Perform operations on the file\n",
    "finally:\n",
    "    f.close()\n",
    "\n",
    "# The raise statement is used to raise exceptions manually.\n",
    "# Example of raise:\n",
    "x = -1\n",
    "if x < 0:\n",
    "    raise ValueError(\"Number must be positive\")\n",
    "\n",
    "    \n",
    "\"\"\"Q5. What are Custom Exceptions in python? Why do we need Custom Exceptions? Explain with an example.\"\"\"\n",
    "# Custom Exceptions in Python are user-defined exception classes that inherit from the built-in Exception class or one of its subclasses. We create custom exceptions to handle specific error conditions in our code.\n",
    "\n",
    "# Example of Custom Exceptions:\n",
    "class CustomError(Exception):\n",
    "    def __init__(self, message):\n",
    "        self.message = message\n",
    "\n",
    "    def __str__(self):\n",
    "        return f'CustomError: {self.message}'\n",
    "\n",
    "\n",
    "    \n",
    "\"\"\"Q6. Create a custom exception class. Use this class to handle an exception\"\"\"\n",
    "# Example of using Custom Exception:\n",
    "def validate_input(x):\n",
    "    if x < 0:\n",
    "        raise CustomError(\"Number must be non-negative\")\n",
    "\n",
    "try:\n",
    "    validate_input(-1)\n",
    "except CustomError as e:\n",
    "    print(e)\n"
   ]
  },
  {
   "cell_type": "code",
   "execution_count": null,
   "id": "0fbe2811-5c0e-4a0f-aa24-4cf6a082f1f3",
   "metadata": {},
   "outputs": [],
   "source": [
    "\"\"\"Q2. What happens when an exception is not handled? Explain with an example.\"\"\"\n",
    "# When an exception is not handled, it propagates up the call stack until it is caught by an exception handler or it reaches the top level of the program, resulting in program termination with an error message.\n",
    "\n",
    "# Example of an unhandled exception:\n",
    "try:\n",
    "    num = 1 / 0  # This will raise a ZeroDivisionError\n",
    "except ValueError:\n",
    "    print(\"This block won't be executed because the exception type doesn't match.\")\n"
   ]
  },
  {
   "cell_type": "code",
   "execution_count": null,
   "id": "80d041ed-c21e-4411-8641-9bc19a67d9f1",
   "metadata": {},
   "outputs": [],
   "source": []
  },
  {
   "cell_type": "code",
   "execution_count": null,
   "id": "9fafeb1e-091b-49ad-92ad-323a3c0952a5",
   "metadata": {},
   "outputs": [],
   "source": []
  },
  {
   "cell_type": "code",
   "execution_count": null,
   "id": "543c4a4d-0717-46ad-ae63-9a72bcaafc6d",
   "metadata": {},
   "outputs": [],
   "source": []
  },
  {
   "cell_type": "code",
   "execution_count": null,
   "id": "d47e5ec0-0e56-4e06-9aa9-c8caa432c1db",
   "metadata": {},
   "outputs": [],
   "source": []
  }
 ],
 "metadata": {
  "kernelspec": {
   "display_name": "Python 3 (ipykernel)",
   "language": "python",
   "name": "python3"
  },
  "language_info": {
   "codemirror_mode": {
    "name": "ipython",
    "version": 3
   },
   "file_extension": ".py",
   "mimetype": "text/x-python",
   "name": "python",
   "nbconvert_exporter": "python",
   "pygments_lexer": "ipython3",
   "version": "3.10.8"
  }
 },
 "nbformat": 4,
 "nbformat_minor": 5
}
