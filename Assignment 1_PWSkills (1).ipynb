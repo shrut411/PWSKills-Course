{
 "cells": [
  {
   "cell_type": "code",
   "execution_count": null,
   "id": "b6964fca-ae2a-4bdd-aba0-9ac33494fddb",
   "metadata": {},
   "outputs": [],
   "source": [
    "#Q1. Create one variable containing following type of data: \n",
    "#(i) string \n",
    "x = \"shrut\"\n",
    "\n",
    "#(ii) list\n",
    "FRUITS = ['apple', 'banana', 'mango']\n",
    "\n",
    "#(iii) float \n",
    "x = 2.33\n",
    "\n",
    "#(iv) tuple\n",
    "ANS: x = (1,2,'mango',5,'guava')\n"
   ]
  },
  {
   "cell_type": "code",
   "execution_count": null,
   "id": "a598ee12-14f3-4b04-bf04-fae70def8a89",
   "metadata": {},
   "outputs": [],
   "source": [
    "#Q2. Given are some following variables containing data: \n",
    "#(i) var1 = ‘ ‘ \n",
    "#(ii) var2 = ‘[ DS , ML , Python]’ \n",
    "#(iii) var3 = [ ‘DS’ , ’ML’ , ‘Python’ ] \n",
    "#(iv) var4 = 1. \n",
    "#What will be the data type of the above given variable.\n",
    "#(i)String\n",
    "#(ii)String\n",
    "#(iii)List\n",
    "#(iv)Integer"
   ]
  },
  {
   "cell_type": "code",
   "execution_count": null,
   "id": "7fc4d8c8-6a99-4255-ae7a-82fb9b50adca",
   "metadata": {},
   "outputs": [],
   "source": [
    "#Q3. Explain the use of the following operators using an example: \n",
    "#(i) /  : It is used to divide an integer by another. Ex: 4/2 = 2\n",
    "#(ii) %  : Modulus operator is used to find the remainder when two integers are divided. Ex: 5%2 = 1\n",
    "#(iii) //  : Floor division is used to round the result of the division to a whole number. Ex: 11/2 = 5\n",
    "#(iv) ** : Used to raise any integer with a power. Ex: 2**2 = 4"
   ]
  },
  {
   "cell_type": "code",
   "execution_count": null,
   "id": "7db59efe-7c79-4fd6-ac20-09a3d2f4ad90",
   "metadata": {},
   "outputs": [],
   "source": [
    "#Q4. Create a list of length 10 of your choice containing multiple types of data. Using a for loop print the  element and its data type.\n",
    "LIST = ['mango','banana',5,6,7,'car']\n",
    "for i in LIST: \n",
    "    print(i)\n",
    "   \tprint(type(i))"
   ]
  },
  {
   "cell_type": "code",
   "execution_count": null,
   "id": "a5f99249-2da1-4cb7-a610-99d843c7b1e7",
   "metadata": {},
   "outputs": [],
   "source": [
    "#Q5. Using a while loop, verify if the number A is purely divisible by number B and if so then how many  times it can be divisible. \n",
    "A = int(input(\"Enter a number:\"))\n",
    "B = int(input(\"Enter another number:\"))\n",
    "count = 0\n",
    "while A%B == 0:\n",
    "    count += 1\n",
    "    print(count)\n",
    "    break"
   ]
  },
  {
   "cell_type": "code",
   "execution_count": null,
   "id": "931bc1fb-4636-4b11-a330-5c8b4b93b63a",
   "metadata": {},
   "outputs": [],
   "source": [
    "#Q6. Create a list containing 25 int type data. Using for loop and if-else condition print if the element is  divisible by 3 or not. \n",
    "\n",
    "LIST = (25,66,99,89,101,23,45,56,78,999,1000,9999,230,450,650,123,321,45,698,78,3,6,8)\n",
    "for i in LIST:\n",
    "    if i%3 == 0:\n",
    "        print(i,\"is divisible by 3\")\n",
    "    else:\n",
    "        print(i,\"is not divisible by 3\")"
   ]
  },
  {
   "cell_type": "code",
   "execution_count": 5,
   "id": "f3bba64f-aacb-4ea2-97e7-e97e03481ffb",
   "metadata": {},
   "outputs": [],
   "source": [
    "#Q7. What do you understand about mutable and immutable data types? Give examples for both showing  this property. \n",
    "\n",
    "#ANS: Immutable Data Types are inbuilt data types of python like int, float, string, tuple etc. We cannot change them but they are easy to access. Whereas, Mutable Data Types are those in which we could add or remove elements. Examples of Mutable Data Types in python are List, Dictionary(dict), set etc.\n"
   ]
  },
  {
   "cell_type": "code",
   "execution_count": null,
   "id": "e00736be-5ea8-4ff7-a636-fdba8fd207bc",
   "metadata": {},
   "outputs": [],
   "source": []
  }
 ],
 "metadata": {
  "kernelspec": {
   "display_name": "Python 3 (ipykernel)",
   "language": "python",
   "name": "python3"
  },
  "language_info": {
   "codemirror_mode": {
    "name": "ipython",
    "version": 3
   },
   "file_extension": ".py",
   "mimetype": "text/x-python",
   "name": "python",
   "nbconvert_exporter": "python",
   "pygments_lexer": "ipython3",
   "version": "3.10.8"
  }
 },
 "nbformat": 4,
 "nbformat_minor": 5
}
