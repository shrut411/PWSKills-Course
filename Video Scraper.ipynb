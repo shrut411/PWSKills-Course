{
 "cells": [
  {
   "cell_type": "code",
   "execution_count": 3,
   "id": "d478878e-5cfa-429b-8b20-00d2b33118f5",
   "metadata": {},
   "outputs": [
    {
     "name": "stdout",
     "output_type": "stream",
     "text": [
      "Data has been successfully scraped and saved to youtube_videos.csv\n"
     ]
    }
   ],
   "source": [
    "import requests\n",
    "from bs4 import BeautifulSoup\n",
    "import pandas as pd\n",
    "\n",
    "# URL of the YouTube channel videos page\n",
    "url = \"https://www.youtube.com/@PW-Foundation/videos\"\n",
    "\n",
    "# Send a GET request to fetch the page content\n",
    "response = requests.get(url)\n",
    "response.raise_for_status()  # Check if the request was successful\n",
    "\n",
    "# Parse the HTML content using BeautifulSoup\n",
    "soup = BeautifulSoup(response.text, 'html.parser')\n",
    "\n",
    "# Find the first five video containers\n",
    "video_containers = soup.find_all('a', {'id': 'video-title'}, limit=5)\n",
    "\n",
    "# Extract the required data\n",
    "video_urls = [f\"https://www.youtube.com{video['href']}\" for video in video_containers]\n",
    "titles = [video['title'] for video in video_containers]\n",
    "\n",
    "# Find the thumbnails, views, and posted times (may not be as straightforward)\n",
    "thumbnail_urls = []\n",
    "view_counts = []\n",
    "post_times = []\n",
    "\n",
    "for video in video_containers:\n",
    "    parent = video.find_parent('ytd-grid-video-renderer')\n",
    "    thumbnail_tag = parent.find('img', {'id': 'img'})\n",
    "    if thumbnail_tag:\n",
    "        thumbnail_urls.append(thumbnail_tag['src'])\n",
    "    else:\n",
    "        thumbnail_urls.append('N/A')\n",
    "    \n",
    "    metadata = parent.find_all('span', {'class': 'style-scope ytd-grid-video-renderer'})\n",
    "    if metadata and len(metadata) >= 2:\n",
    "        view_counts.append(metadata[0].text)\n",
    "        post_times.append(metadata[1].text)\n",
    "    else:\n",
    "        view_counts.append('N/A')\n",
    "        post_times.append('N/A')\n",
    "\n",
    "# Save data to a CSV file\n",
    "data = {\n",
    "    \"Video URL\": video_urls,\n",
    "    \"Thumbnail URL\": thumbnail_urls,\n",
    "    \"Title\": titles,\n",
    "    \"Views\": view_counts,\n",
    "    \"Posted Time\": post_times\n",
    "}\n",
    "\n",
    "df = pd.DataFrame(data)\n",
    "df.to_csv('youtube_videos.csv', index=False)\n",
    "\n",
    "print(\"Data has been successfully scraped and saved to youtube_videos.csv\")\n"
   ]
  },
  {
   "cell_type": "code",
   "execution_count": null,
   "id": "d848acec-8b67-4517-ab5f-8e3e32921430",
   "metadata": {},
   "outputs": [],
   "source": []
  }
 ],
 "metadata": {
  "kernelspec": {
   "display_name": "Python 3 (ipykernel)",
   "language": "python",
   "name": "python3"
  },
  "language_info": {
   "codemirror_mode": {
    "name": "ipython",
    "version": 3
   },
   "file_extension": ".py",
   "mimetype": "text/x-python",
   "name": "python",
   "nbconvert_exporter": "python",
   "pygments_lexer": "ipython3",
   "version": "3.10.8"
  }
 },
 "nbformat": 4,
 "nbformat_minor": 5
}
