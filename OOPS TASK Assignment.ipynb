{
 "cells": [
  {
   "cell_type": "code",
   "execution_count": 1,
   "id": "cd1ea4d6-366a-4323-8963-6901f5f64df4",
   "metadata": {},
   "outputs": [],
   "source": [
    "#Q1, Create a vehicle class with an init method having instance variables as name_of_vehicle, max_speed and average_of_vehicle.\n",
    "class Vehicle:\n",
    "    def __init__(self, name_of_vehicle, max_speed, average_of_vehicle):\n",
    "        self.name_of_vehicle = name_of_vehicle\n",
    "        self.max_speed = max_speed\n",
    "        self.average_of_vehicle = average_of_vehicle"
   ]
  },
  {
   "cell_type": "code",
   "execution_count": 2,
   "id": "6405e2a5-4a34-4aed-9917-2aa8456bb910",
   "metadata": {},
   "outputs": [
    {
     "name": "stdout",
     "output_type": "stream",
     "text": [
      "Toyota Camry has a seating capacity of 5.\n"
     ]
    }
   ],
   "source": [
    "#Q2. Create a child class car from the vehicle class created in Que 1, which will inherit the vehicle class. Create a method named seating_capacity which takes capacity as an argument and returns the name of the vehicle and its seating capacity.\n",
    "class Car(Vehicle):\n",
    "    def seating_capacity(self, capacity):\n",
    "        return f\"{self.name_of_vehicle} has a seating capacity of {capacity}.\"\n",
    "\n",
    "# Example usage:\n",
    "car_instance = Car(\"Toyota Camry\", 200, 25)\n",
    "print(car_instance.seating_capacity(5))"
   ]
  },
  {
   "cell_type": "code",
   "execution_count": 3,
   "id": "f2a328be-3355-4830-97d0-23f09ed738d2",
   "metadata": {},
   "outputs": [
    {
     "name": "stdout",
     "output_type": "stream",
     "text": [
      "Method A from class A\n",
      "Method B from class B\n",
      "Method C from class C\n"
     ]
    }
   ],
   "source": [
    "#Q3: What is multiple inheritance? Write a python code to demonstrate multiple inheritance.\n",
    "\"\"\"Multiple inheritance in Python refers to a class inheriting from more than one base classes. Given below is an example of the same\"\"\"\n",
    "class A:\n",
    "    def method_A(self):\n",
    "        print(\"Method A from class A\")\n",
    "\n",
    "class B:\n",
    "    def method_B(self):\n",
    "        print(\"Method B from class B\")\n",
    "\n",
    "class C(A, B):\n",
    "    def method_C(self):\n",
    "        print(\"Method C from class C\")\n",
    "\n",
    "# Example usage:\n",
    "obj_c = C()\n",
    "obj_c.method_A()\n",
    "obj_c.method_B()\n",
    "obj_c.method_C()"
   ]
  },
  {
   "cell_type": "code",
   "execution_count": 4,
   "id": "55bf3571-25e9-4409-bb3b-ec48665d6f9c",
   "metadata": {},
   "outputs": [
    {
     "name": "stdout",
     "output_type": "stream",
     "text": [
      "0\n",
      "10\n",
      "Invalid value. Value must be non-negative.\n"
     ]
    }
   ],
   "source": [
    "#Q4: What are getter and setter in python? Create a class and create a getter and a setter method in this class.\n",
    "\"\"\"In Python, getters and setters are methods used to access and modify the attributes of a class, \n",
    "providing a way to control the access to the attributes. Given below is an example of the same.\"\"\"\n",
    "class Example:\n",
    "    def __init__(self):\n",
    "        self._value = 0\n",
    "\n",
    "    # Getter method\n",
    "    def get_value(self):\n",
    "        return self._value\n",
    "\n",
    "    # Setter method\n",
    "    def set_value(self, new_value):\n",
    "        if new_value >= 0:\n",
    "            self._value = new_value\n",
    "        else:\n",
    "            print(\"Invalid value. Value must be non-negative.\")\n",
    "\n",
    "obj = Example()\n",
    "print(obj.get_value())  \n",
    "obj.set_value(10)\n",
    "print(obj.get_value())  \n",
    "obj.set_value(-5)       \n"
   ]
  },
  {
   "cell_type": "code",
   "execution_count": null,
   "id": "1263abae-71d7-4db4-8b25-29d7739af96b",
   "metadata": {},
   "outputs": [],
   "source": [
    "#Q5: What is method overriding in python? Write a python code to demonstrate method overriding.\n",
    "\"\"\"Method overriding occurs when a subclass provides a specific implementation for a method that is already defined in its superclass.\"\"\"\n",
    "\n",
    "class Animal:\n",
    "    def sound(self):\n",
    "        print(\"Generic animal sound\")\n",
    "\n",
    "class Dog(Animal):\n",
    "    def sound(self):\n",
    "        print(\"Bark\")\n",
    "\n",
    "class Cat(Animal):\n",
    "    def sound(self):\n",
    "        print(\"Meow\")\n",
    "\n",
    "# Example usage:\n",
    "dog = Dog()\n",
    "dog.sound()\n",
    "\n",
    "cat = Cat()\n",
    "cat.sound()"
   ]
  }
 ],
 "metadata": {
  "kernelspec": {
   "display_name": "Python 3 (ipykernel)",
   "language": "python",
   "name": "python3"
  },
  "language_info": {
   "codemirror_mode": {
    "name": "ipython",
    "version": 3
   },
   "file_extension": ".py",
   "mimetype": "text/x-python",
   "name": "python",
   "nbconvert_exporter": "python",
   "pygments_lexer": "ipython3",
   "version": "3.10.8"
  }
 },
 "nbformat": 4,
 "nbformat_minor": 5
}
