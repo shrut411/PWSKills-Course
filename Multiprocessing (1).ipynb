{
 "cells": [
  {
   "cell_type": "code",
   "execution_count": null,
   "id": "2d6053de-c677-46d2-add4-6d846db09c28",
   "metadata": {},
   "outputs": [],
   "source": [
    "\"\"\"Q1. What is multiprocessing in Python? Why is it useful?\"\"\"\n",
    "\n",
    "# Multiprocessing in Python refers to the ability to create multiple processes that run independently and concurrently.\n",
    "# Each process has its own memory space and execution environment, allowing tasks to be executed in parallel on multiple CPU cores.\n",
    "# It is useful for CPU-bound tasks, as it can significantly improve performance by utilizing multiple cores for computation-heavy operations.\n",
    "\n",
    "# The multiprocessing module in Python provides an interface for spawning and managing processes.\n",
    "\n",
    "import multiprocessing"
   ]
  },
  {
   "cell_type": "code",
   "execution_count": null,
   "id": "0254e6b3-a2c4-4bac-859a-a6100261da4e",
   "metadata": {},
   "outputs": [],
   "source": [
    "\"\"\"Q2. What are the differences between multiprocessing and multithreading?\"\"\"\n",
    "\n",
    "# 1. Memory Usage:\n",
    "#    - Multiprocessing: Each process has its own memory space, leading to more memory usage.\n",
    "#    - Multithreading: Threads share the same memory space within a single process, leading to less memory usage.\n",
    "\n",
    "# 2. Execution:\n",
    "#    - Multiprocessing: Processes run in parallel on separate CPU cores, achieving true parallelism.\n",
    "#    - Multithreading: Threads run concurrently within the same process, but in CPython, the Global Interpreter Lock (GIL) can prevent true parallelism for CPU-bound tasks.\n",
    "\n",
    "# 3. Overhead:\n",
    "#    - Multiprocessing: Higher overhead due to inter-process communication and process management.\n",
    "#    - Multithreading: Lower overhead since threads share the same memory space and resources.\n",
    "\n",
    "# 4. Use Cases:\n",
    "#    - Multiprocessing: Suitable for CPU-bound tasks that require parallel execution across multiple cores.\n",
    "#    - Multithreading: Suitable for I/O-bound tasks that involve waiting for external resources like network or disk I/O.\n"
   ]
  },
  {
   "cell_type": "code",
   "execution_count": null,
   "id": "b2b38d5c-eb15-4808-a8e1-88db485403b8",
   "metadata": {},
   "outputs": [],
   "source": [
    "\"\"\"Q3. Write a python code to create a process using the multiprocessing module.\"\"\"\n",
    "\n",
    "def worker_function():\n",
    "    print(\"Worker process is running\")\n",
    "\n",
    "# Creating a process\n",
    "process = multiprocessing.Process(target=worker_function)\n",
    "\n",
    "# Starting the process\n",
    "process.start()\n",
    "\n",
    "# Waiting for the process to complete\n",
    "process.join()\n"
   ]
  },
  {
   "cell_type": "code",
   "execution_count": null,
   "id": "30ce3197-b40a-49b3-a7a0-35127638be3d",
   "metadata": {},
   "outputs": [],
   "source": [
    "\"\"\"Q4. What is a multiprocessing pool in Python? Why is it used?\"\"\"\n",
    "\n",
    "# A multiprocessing pool in Python is a collection of worker processes that can execute tasks in parallel.\n",
    "# The `Pool` class in the multiprocessing module provides a convenient way to manage multiple worker processes.\n",
    "# It is used to distribute tasks among multiple processes, allowing for parallel execution and efficient use of CPU resources.\n",
    "\n",
    "# The Pool class provides methods like `apply`, `apply_async`, `map`, and `map_async` to distribute tasks to the pool of worker processes.\n"
   ]
  },
  {
   "cell_type": "code",
   "execution_count": null,
   "id": "56653b73-027b-4808-95c9-994389e6644b",
   "metadata": {},
   "outputs": [],
   "source": [
    "\"\"\"Q5. How can we create a pool of worker processes in Python using the multiprocessing module?\"\"\"\n",
    "\n",
    "def worker_function(x):\n",
    "    return x * x\n",
    "\n",
    "# Creating a pool of 4 worker processes\n",
    "with multiprocessing.Pool(processes=4) as pool:\n",
    "    results = pool.map(worker_function, range(10))\n",
    "\n",
    "print(f\"Results from pool: {results}\")"
   ]
  },
  {
   "cell_type": "code",
   "execution_count": null,
   "id": "2f0f9015-a195-413e-a4b9-4a3b94e0526a",
   "metadata": {},
   "outputs": [],
   "source": [
    "\"\"\"Q6. Write a python program to create 4 processes, each process should print a different number using the multiprocessing module in Python.\"\"\"\n",
    "\n",
    "def print_number(number):\n",
    "    print(f\"Process {multiprocessing.current_process().name} printing number: {number}\")\n",
    "\n",
    "# Creating 4 processes\n",
    "processes = []\n",
    "for i in range(4):\n",
    "    process = multiprocessing.Process(target=print_number, args=(i,))\n",
    "    processes.append(process)\n",
    "    process.start()\n",
    "\n",
    "# Waiting for all processes to complete\n",
    "for process in processes:\n",
    "    process.join()"
   ]
  }
 ],
 "metadata": {
  "kernelspec": {
   "display_name": "Python 3 (ipykernel)",
   "language": "python",
   "name": "python3"
  },
  "language_info": {
   "codemirror_mode": {
    "name": "ipython",
    "version": 3
   },
   "file_extension": ".py",
   "mimetype": "text/x-python",
   "name": "python",
   "nbconvert_exporter": "python",
   "pygments_lexer": "ipython3",
   "version": "3.10.8"
  }
 },
 "nbformat": 4,
 "nbformat_minor": 5
}
