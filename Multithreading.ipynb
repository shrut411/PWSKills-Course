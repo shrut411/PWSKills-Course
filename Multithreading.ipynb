{
 "cells": [
  {
   "cell_type": "code",
   "execution_count": null,
   "id": "7c484e1a-2bc9-4d3d-bd25-50650998d813",
   "metadata": {},
   "outputs": [],
   "source": [
    "\"\"\"Q1. What is multithreading in python? Why is it used? Name the module used to handle threads in python\"\"\"\n",
    "\n",
    "# Multithreading in Python refers to the concurrent execution of multiple threads (smaller units of a process) \n",
    "# to achieve parallelism. It is used to perform multiple tasks simultaneously within a single process, \n",
    "# such as improving the performance of applications by running background tasks or performing I/O operations concurrently.\n",
    "\n",
    "# The module used to handle threads in Python is the `threading` module.\n",
    "import threading"
   ]
  },
  {
   "cell_type": "code",
   "execution_count": null,
   "id": "6c2e3d1c-d183-433f-95aa-d463523a7484",
   "metadata": {},
   "outputs": [],
   "source": [
    "\"\"\"Q2. Why threading module used? Write the use of the following functions\"\"\"\n",
    "# The threading module is used for creating, controlling, and managing threads in Python. \n",
    "# It provides a higher-level interface for working with threads compared to the lower-level `_thread` module.\n",
    "\n",
    "# activeCount(): Returns the number of Thread objects currently alive.\n",
    "print(f\"Active thread count: {threading.active_count()}\")\n",
    "\n",
    "# currentThread(): Returns the current Thread object corresponding to the caller's thread of control.\n",
    "print(f\"Current thread: {threading.current_thread()}\")\n",
    "\n",
    "# enumerate(): Returns a list of all Thread objects currently alive.\n",
    "print(f\"All active threads: {threading.enumerate()}\")\n"
   ]
  },
  {
   "cell_type": "code",
   "execution_count": null,
   "id": "8338f127-25ff-4aa4-b032-cd175a77d772",
   "metadata": {},
   "outputs": [],
   "source": [
    "\"\"\"Q3. Explain the following functions:\"\"\"\n",
    "\n",
    "# run(): This method represents the thread's activity. It is the entry point for a thread. \n",
    "# When a thread is started, the run() method is invoked in a separate thread of control.\n",
    "def example_run():\n",
    "    print(\"Thread is running\")\n",
    "\n",
    "thread_example = threading.Thread(target=example_run)\n",
    "thread_example.run()  # Note: This runs in the same thread, unlike start()\n",
    "\n",
    "# start(): This method starts the thread's activity by calling the run() method in a separate thread of control.\n",
    "thread_example.start()\n",
    "\n",
    "# join(): This method blocks the calling thread until the thread whose join() method is called terminates.\n",
    "thread_example.join()\n",
    "\n",
    "# isAlive(): This method returns True if the thread is still running, otherwise it returns False.\n",
    "print(f\"Is thread alive? {thread_example.is_alive()}\")\n"
   ]
  },
  {
   "cell_type": "code",
   "execution_count": null,
   "id": "75b33d61-eeb8-4783-b2eb-51dbcb9eb08e",
   "metadata": {},
   "outputs": [],
   "source": [
    "\"\"\"Q4. Write a python program to create two threads. Thread one must print the list of squares and thread two must print the list of cubes.\"\"\"\n",
    "\n",
    "def print_squares():\n",
    "    squares = [i ** 2 for i in range(1, 6)]\n",
    "    print(f\"Squares: {squares}\")\n",
    "\n",
    "def print_cubes():\n",
    "    cubes = [i ** 3 for i in range(1, 6)]\n",
    "    print(f\"Cubes: {cubes}\")\n",
    "\n",
    "# Creating threads\n",
    "thread1 = threading.Thread(target=print_squares)\n",
    "thread2 = threading.Thread(target=print_cubes)\n",
    "\n",
    "# Starting threads\n",
    "thread1.start()\n",
    "thread2.start()\n",
    "\n",
    "# Waiting for both threads to complete\n",
    "thread1.join()\n",
    "thread2.join()"
   ]
  },
  {
   "cell_type": "code",
   "execution_count": null,
   "id": "cdda567c-ba27-452c-b6ad-8733eec87a70",
   "metadata": {},
   "outputs": [],
   "source": []
  }
 ],
 "metadata": {
  "kernelspec": {
   "display_name": "Python 3 (ipykernel)",
   "language": "python",
   "name": "python3"
  },
  "language_info": {
   "codemirror_mode": {
    "name": "ipython",
    "version": 3
   },
   "file_extension": ".py",
   "mimetype": "text/x-python",
   "name": "python",
   "nbconvert_exporter": "python",
   "pygments_lexer": "ipython3",
   "version": "3.10.8"
  }
 },
 "nbformat": 4,
 "nbformat_minor": 5
}
